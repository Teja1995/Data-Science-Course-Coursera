{
 "cells": [
  {
   "cell_type": "markdown",
   "id": "aecde7e4-510e-4be5-8935-bcef6944ac5d",
   "metadata": {},
   "source": [
    "# Data Science Tools and Ecosystem"
   ]
  },
  {
   "cell_type": "markdown",
   "id": "16e55c1d-a6fc-4e9b-9794-5e074b32f448",
   "metadata": {},
   "source": [
    "In this notebook, Data Science Tools and Ecosystem are summarized."
   ]
  },
  {
   "cell_type": "markdown",
   "id": "d382f5b3-9b9d-48e8-af6a-5f43b77df8d5",
   "metadata": {},
   "source": [
    "Some of the popular languages that Data Scientists use are:\n",
    "1. R\n",
    "2. Python\n",
    "3. Julia\n",
    "4. Java"
   ]
  },
  {
   "cell_type": "markdown",
   "id": "5923e5d5-1d1a-4ddd-a31b-f700ce217c1c",
   "metadata": {},
   "source": [
    "Some of the commonly used libraries used by Data Scientists include:\n",
    "1. ggplot\n",
    "2. matplotlib\n",
    "3. plotly"
   ]
  },
  {
   "cell_type": "markdown",
   "id": "c219ddc8-7e8d-4b0b-a647-bc4417647b8b",
   "metadata": {},
   "source": [
    "|Data Science Tools|\n",
    "| --- |\n",
    "| Jupyter Notebook |\n",
    "| R Studio |\n",
    "| VS Code |"
   ]
  },
  {
   "cell_type": "markdown",
   "id": "65ce64a2-350f-4821-b0b0-6f4fb4a30df7",
   "metadata": {},
   "source": [
    "### Below are a few examples of evaluating arithmetic expressions in Python"
   ]
  },
  {
   "cell_type": "code",
   "execution_count": 4,
   "id": "b02e2faa-39ee-4052-8606-520cead6604f",
   "metadata": {},
   "outputs": [
    {
     "data": {
      "text/plain": [
       "17"
      ]
     },
     "execution_count": 4,
     "metadata": {},
     "output_type": "execute_result"
    }
   ],
   "source": [
    "# This a simple arithmetic expression to mutiply then add integers\n",
    "(3*4)+5"
   ]
  },
  {
   "cell_type": "code",
   "execution_count": 5,
   "id": "20e2584e-0449-4dea-93dc-fb51fbfff37d",
   "metadata": {},
   "outputs": [
    {
     "data": {
      "text/plain": [
       "3.3333333333333335"
      ]
     },
     "execution_count": 5,
     "metadata": {},
     "output_type": "execute_result"
    }
   ],
   "source": [
    "# This will convert 200 minutes to hours by diving by 60\n",
    "200/60"
   ]
  },
  {
   "cell_type": "markdown",
   "id": "ffb528bb-67ed-4464-8990-faaa1573aef1",
   "metadata": {},
   "source": [
    "**Objectives:** \n",
    "- List popular languages for Data Science\n",
    "- List popular languages for Data Science libraries\n",
    "- List popular languages for Data Science Tools\n",
    "- Evaluating simple arithmetic expressions"
   ]
  },
  {
   "cell_type": "markdown",
   "id": "3b28fe65-5249-4555-8b22-de0ead9623a8",
   "metadata": {},
   "source": [
    "## Author\n",
    "Ravi Teja"
   ]
  },
  {
   "cell_type": "code",
   "execution_count": null,
   "id": "f136281e-cf32-49a8-96c9-73c60b7bcc68",
   "metadata": {},
   "outputs": [],
   "source": []
  }
 ],
 "metadata": {
  "kernelspec": {
   "display_name": "Python 3 (ipykernel)",
   "language": "python",
   "name": "python3"
  },
  "language_info": {
   "codemirror_mode": {
    "name": "ipython",
    "version": 3
   },
   "file_extension": ".py",
   "mimetype": "text/x-python",
   "name": "python",
   "nbconvert_exporter": "python",
   "pygments_lexer": "ipython3",
   "version": "3.10.14"
  }
 },
 "nbformat": 4,
 "nbformat_minor": 5
}
